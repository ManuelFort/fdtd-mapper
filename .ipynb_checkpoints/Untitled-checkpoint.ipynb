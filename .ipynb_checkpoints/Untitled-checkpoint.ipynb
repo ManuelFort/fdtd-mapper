{
 "cells": [
  {
   "cell_type": "code",
   "execution_count": 16,
   "metadata": {},
   "outputs": [],
   "source": [
    "import numpy as np\n",
    "import matplotlib.pyplot as plt\n",
    "from scipy import interpolate\n",
    "\n",
    "%matplotlib inline"
   ]
  },
  {
   "cell_type": "code",
   "execution_count": 3,
   "metadata": {},
   "outputs": [],
   "source": [
    "X = 0.3\n",
    "Y = 0.2\n",
    "dx = 0.0002\n",
    "dy = 0.0002"
   ]
  },
  {
   "cell_type": "code",
   "execution_count": 43,
   "metadata": {},
   "outputs": [],
   "source": [
    "x = np.arange(0,X,dx)\n",
    "y = np.arange(0,Y,dy)\n",
    "m = np.zeros((int(X/dx),int(Y/dy)))"
   ]
  },
  {
   "cell_type": "code",
   "execution_count": 44,
   "metadata": {},
   "outputs": [
    {
     "data": {
      "text/plain": [
       "<matplotlib.collections.QuadMesh at 0x1839b13a58>"
      ]
     },
     "execution_count": 44,
     "metadata": {},
     "output_type": "execute_result"
    },
    {
     "data": {
      "image/png": "[encoded data removed]",
      "text/plain": [
       "<matplotlib.figure.Figure at 0x118cc3da0>"
      ]
     },
     "metadata": {},
     "output_type": "display_data"
    }
   ],
   "source": [
    "plt.pcolormesh(x,y,m.T)"
   ]
  },
  {
   "cell_type": "code",
   "execution_count": 55,
   "metadata": {},
   "outputs": [
    {
     "data": {
      "text/plain": [
       "[<matplotlib.lines.Line2D at 0x184c5fc780>]"
      ]
     },
     "execution_count": 55,
     "metadata": {},
     "output_type": "execute_result"
    },
    {
     "data": {
      "image/png": "[encoded data removed]",
      "text/plain": [
       "<matplotlib.figure.Figure at 0x184c5cbbe0>"
      ]
     },
     "metadata": {},
     "output_type": "display_data"
    }
   ],
   "source": [
    "ne_x = np.linspace(0.2,0.25)\n",
    "ne_y = np.linspace(0, 1e20)\n",
    "\n",
    "ne_x = np.linspace(0,0.1)\n",
    "ne_y = np.sin(ne_x*10*np.pi)\n",
    "\n",
    "r0 = 0.2\n",
    "ne_x = ne_x + r0\n",
    "\n",
    "plt.plot(ne_x, ne_y)"
   ]
  },
  {
   "cell_type": "code",
   "execution_count": 56,
   "metadata": {},
   "outputs": [
    {
     "data": {
      "text/plain": [
       "<matplotlib.collections.QuadMesh at 0x184c72b390>"
      ]
     },
     "execution_count": 56,
     "metadata": {},
     "output_type": "execute_result"
    },
    {
     "data": {
      "image/png": "[encoded data removed]",
      "text/plain": [
       "<matplotlib.figure.Figure at 0x118d0b710>"
      ]
     },
     "metadata": {},
     "output_type": "display_data"
    }
   ],
   "source": [
    "f = interpolate.interp1d(ne_x, ne_y, bounds_error=False, fill_value=0)\n",
    "xx,yy = np.meshgrid(x,y)\n",
    "ne = f(xx)\n",
    "plt.pcolormesh(xx,yy,ne)"
   ]
  },
  {
   "cell_type": "code",
   "execution_count": 67,
   "metadata": {},
   "outputs": [
    {
     "name": "stdout",
     "output_type": "stream",
     "text": [
      "[[  1.30000000e+09   1.30000000e+09   1.30000000e+09]\n",
      " [  1.30000000e+09   1.30000000e+09   1.30000000e+09]\n",
      " [  1.30000000e+09   1.30000000e+09   1.30000000e+09]]\n",
      "1.300000e+09 1.300000e+09 1.300000e+09 \n",
      "\n",
      "1.300000e+09 1.300000e+09 1.300000e+09 \n",
      "\n",
      "1.300000e+09 1.300000e+09 1.300000e+09 \n",
      "\n"
     ]
    }
   ],
   "source": [
    "def save_output_ascii(m, filename):\n",
    "    \"\"\"\n",
    "    Saves the 2D matrix into the output file\n",
    "\n",
    "    Parameters\n",
    "    ----------\n",
    "    m : array 2d\n",
    "        Matrix to be stored\n",
    "    \n",
    "    \"\"\"\n",
    "    with open(filename, 'w') as f:\n",
    "\n",
    "        for line in m:\n",
    "            l = ''\n",
    "            for el in line:\n",
    "                l += '%e'%el\n",
    "                l += ' '\n",
    "            l += '\\n'\n",
    "            f.write(l)\n",
    "            print(l)\n",
    "\n",
    "m = np.ones((3,3))*1.3e9\n",
    "print(m)\n",
    "save_output_ascii(m, 'data.rfm')"
   ]
  },
  {
   "cell_type": "code",
   "execution_count": 15,
   "metadata": {},
   "outputs": [],
   "source": [
    "def mapper_slabify(x, y, shape, axis=0):\n",
    "    \"\"\"\n",
    "    Slabifies a 1D vector into a 2D vector repeated along the y axis\n",
    "\n",
    "    Parameters\n",
    "    ----------\n",
    "    x : array\n",
    "        x value of the input vector to repeat\n",
    "    y : array\n",
    "        y value of the input vector to repeat\n",
    "    shape : array\n",
    "        Array of the new axis to input\n",
    "    \n",
    "    Returns\n",
    "    -------\n",
    "    xx, yy, zz : 2d arrays\n",
    "        Repeated values \n",
    "    \n",
    "    \"\"\"\n",
    "    \n",
    "    \n",
    "    xx = np.tile(time, shape[1]).reshape(np.fliplr([shape])[0]).T\n",
    "\n",
    "\n",
    "newy = np.linspace(1,2)\n",
    "mapper_slabify(ne_x, ne_y, newy)"
   ]
  },
  {
   "cell_type": "code",
   "execution_count": 41,
   "metadata": {},
   "outputs": [
    {
     "data": {
      "text/plain": [
       "<matplotlib.collections.QuadMesh at 0x18399d97b8>"
      ]
     },
     "execution_count": 41,
     "metadata": {},
     "output_type": "execute_result"
    },
    {
     "data": {
      "image/png": "[encoded data removed]",
      "text/plain": [
       "<matplotlib.figure.Figure at 0x117f98cf8>"
      ]
     },
     "metadata": {},
     "output_type": "display_data"
    }
   ],
   "source": [
    "x = np.linspace(0,5*2*np.pi)\n",
    "y = np.linspace(0,5*2*np.pi)\n",
    "xx,yy = np.meshgrid(x,y)\n",
    "plt.pcolormesh(xx,yy,np.sin(xx)*np.sin(yy))"
   ]
  },
  {
   "cell_type": "code",
   "execution_count": null,
   "metadata": {},
   "outputs": [],
   "source": []
  }
 ],
 "metadata": {
  "kernelspec": {
   "display_name": "Python 3",
   "language": "python",
   "name": "python3"
  },
  "language_info": {
   "codemirror_mode": {
    "name": "ipython",
    "version": 3
   },
   "file_extension": ".py",
   "mimetype": "text/x-python",
   "name": "python",
   "nbconvert_exporter": "python",
   "pygments_lexer": "ipython3",
   "version": "3.6.2"
  }
 },
 "nbformat": 4,
 "nbformat_minor": 2
}
